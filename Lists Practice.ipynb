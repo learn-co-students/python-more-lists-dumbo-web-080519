{
 "metadata": {
  "name": "",
  "signature": "sha256:33806d137a62ca6b300d2f94d6a35b4382af86a514578934bbdb59073171eb11"
 },
 "nbformat": 3,
 "nbformat_minor": 0,
 "worksheets": [
  {
   "cells": [
    {
     "cell_type": "markdown",
     "metadata": {},
     "source": [
      "# Lists Practice\n",
      "\n",
      "Turns out, much of programming is manipulating lists of data. So let's get very very good at that!"
     ]
    },
    {
     "cell_type": "markdown",
     "metadata": {},
     "source": [
      "Sort this list from A to Z"
     ]
    },
    {
     "cell_type": "code",
     "collapsed": false,
     "input": [
      "students = [\"Danielle\",\"Joe\",\"Fred\",\"Liz\"]"
     ],
     "language": "python",
     "metadata": {},
     "outputs": [],
     "prompt_number": 1
    },
    {
     "cell_type": "markdown",
     "metadata": {},
     "source": [
      "Sort the `students` list from Z to A"
     ]
    },
    {
     "cell_type": "code",
     "collapsed": false,
     "input": [],
     "language": "python",
     "metadata": {},
     "outputs": [],
     "prompt_number": 1
    },
    {
     "cell_type": "markdown",
     "metadata": {},
     "source": [
      "Swap Joe and Liz"
     ]
    },
    {
     "cell_type": "code",
     "collapsed": false,
     "input": [],
     "language": "python",
     "metadata": {},
     "outputs": [],
     "prompt_number": 1
    },
    {
     "cell_type": "markdown",
     "metadata": {},
     "source": [
      "Reverse the List"
     ]
    },
    {
     "cell_type": "code",
     "collapsed": false,
     "input": [],
     "language": "python",
     "metadata": {},
     "outputs": [],
     "prompt_number": 1
    },
    {
     "cell_type": "markdown",
     "metadata": {},
     "source": [
      "Ke$ha is famous for replacing all of the `s` characters with `S`. Convert this list of names into Kesha-ified names. So for example this list:\n",
      "\n",
      "```\n",
      "[\"Sally\",\"James\",\"Joe\"]\n",
      "```\n",
      "\n",
      "would turn into this:\n",
      "\n",
      "```\n",
      "[\"$ally\",\"Jame$\",\"Joe\"]\n",
      "```"
     ]
    },
    {
     "cell_type": "code",
     "collapsed": false,
     "input": [
      "names = [\"Sally\",\"James\",\"Joe\"]"
     ],
     "language": "python",
     "metadata": {},
     "outputs": [],
     "prompt_number": 4
    },
    {
     "cell_type": "markdown",
     "metadata": {},
     "source": [
      "Find all price greater than 10"
     ]
    },
    {
     "cell_type": "code",
     "collapsed": false,
     "input": [
      "prices = [234,4,23.4,0.5]"
     ],
     "language": "python",
     "metadata": {},
     "outputs": [],
     "prompt_number": 5
    },
    {
     "cell_type": "markdown",
     "metadata": {},
     "source": [
      "Find all prices less than 10"
     ]
    },
    {
     "cell_type": "code",
     "collapsed": false,
     "input": [
      "prices = [234,4,23.4,0.5]"
     ],
     "language": "python",
     "metadata": {},
     "outputs": [],
     "prompt_number": 6
    },
    {
     "cell_type": "markdown",
     "metadata": {},
     "source": [
      "Find the sum of the `prices`"
     ]
    },
    {
     "cell_type": "code",
     "collapsed": false,
     "input": [],
     "language": "python",
     "metadata": {},
     "outputs": [],
     "prompt_number": 6
    },
    {
     "cell_type": "markdown",
     "metadata": {},
     "source": [
      "Find the `average` of the `prices` list"
     ]
    },
    {
     "cell_type": "code",
     "collapsed": false,
     "input": [],
     "language": "python",
     "metadata": {},
     "outputs": [],
     "prompt_number": 6
    },
    {
     "cell_type": "markdown",
     "metadata": {},
     "source": [
      "Find the average of the prices less than 15"
     ]
    },
    {
     "cell_type": "code",
     "collapsed": false,
     "input": [],
     "language": "python",
     "metadata": {},
     "outputs": [],
     "prompt_number": 6
    },
    {
     "cell_type": "markdown",
     "metadata": {},
     "source": [
      "Count the words in the story. Hint: [Reduce to previously solved problem](http://www.tutorialspoint.com/python/string_split.htm)"
     ]
    },
    {
     "cell_type": "code",
     "collapsed": false,
     "input": [
      "story = \"I want to computer everything!\""
     ],
     "language": "python",
     "metadata": {},
     "outputs": [],
     "prompt_number": 7
    },
    {
     "cell_type": "markdown",
     "metadata": {},
     "source": [
      "How many Dave Matthews Band songs are in this list?"
     ]
    },
    {
     "cell_type": "code",
     "collapsed": false,
     "input": [
      "jams = [\"dave matthews band - tripping billies\", \"dave matthews band - #41\", \"calvin harris - some techno song\", \"avicii - some other dance song\", \"oasis - wonderwall\", \"oasis - champagne supernova\"]"
     ],
     "language": "python",
     "metadata": {},
     "outputs": []
    }
   ],
   "metadata": {}
  }
 ]
}